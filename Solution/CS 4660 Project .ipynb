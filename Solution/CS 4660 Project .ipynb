{
 "cells": [
  {
   "cell_type": "markdown",
   "metadata": {},
   "source": [
    "# Imports"
   ]
  },
  {
   "cell_type": "code",
   "execution_count": 1,
   "metadata": {
    "collapsed": true
   },
   "outputs": [],
   "source": [
    "from sklearn.linear_model import LogisticRegression\n",
    "from sklearn.tree import DecisionTreeClassifier\n",
    "from sklearn.model_selection import train_test_split\n",
    "from sklearn.neighbors import KNeighborsClassifier\n",
    "from sklearn.naive_bayes import GaussianNB\n",
    "from sklearn.metrics import accuracy_score\n",
    "from sklearn import preprocessing\n",
    "from sklearn.cluster import KMeans\n",
    "from sklearn.model_selection  import cross_val_score\n",
    "from sklearn.ensemble import RandomForestClassifier\n",
    "from sklearn.linear_model import LinearRegression\n",
    "from sklearn.metrics import roc_auc_score\n",
    "import matplotlib.pyplot as plt\n",
    "from sklearn import metrics\n",
    "import numpy as np\n",
    "import pandas as pd"
   ]
  },
  {
   "cell_type": "markdown",
   "metadata": {},
   "source": [
    "# Reading CSV File "
   ]
  },
  {
   "cell_type": "code",
   "execution_count": 2,
   "metadata": {},
   "outputs": [
    {
     "data": {
      "text/plain": [
       "(75818, 370)"
      ]
     },
     "execution_count": 2,
     "metadata": {},
     "output_type": "execute_result"
    }
   ],
   "source": [
    "# reading a CSV file directly from local device, and store it in a pandas DataFrame:\n",
    "# \"read_csv\" is a pandas function to read csv files from web or local device:\n",
    "\n",
    "read12 = pd.read_csv('C:/Users/rajat/Downloads/HW3/testLabel.csv')\n",
    "\n",
    "\n",
    "test = pd.read_csv('C:/Users/rajat/Downloads/test.csv/test.csv')\n",
    "train = pd.read_csv('C:/Users/rajat/Downloads/train.csv/train.csv')\n",
    "\n",
    "test.shape"
   ]
  },
  {
   "cell_type": "markdown",
   "metadata": {},
   "source": [
    "# Pre - Processing of Data"
   ]
  },
  {
   "cell_type": "markdown",
   "metadata": {},
   "source": [
    "### Applying Feature Selection on Data"
   ]
  },
  {
   "cell_type": "code",
   "execution_count": 5,
   "metadata": {
    "collapsed": true
   },
   "outputs": [],
   "source": [
    "from sklearn.feature_selection import VarianceThreshold\n",
    "sel = VarianceThreshold(threshold=(.8 * (1 - .8)))\n",
    "train_Selection =sel.fit_transform(train)\n",
    "\n",
    "test_Selection =sel.fit_transform(test)\n"
   ]
  },
  {
   "cell_type": "code",
   "execution_count": 6,
   "metadata": {},
   "outputs": [
    {
     "data": {
      "text/plain": [
       "(76020, 212)"
      ]
     },
     "execution_count": 6,
     "metadata": {},
     "output_type": "execute_result"
    }
   ],
   "source": [
    "df_train = pd.DataFrame(train_Selection)\n",
    "df_train.shape"
   ]
  },
  {
   "cell_type": "code",
   "execution_count": 7,
   "metadata": {},
   "outputs": [
    {
     "data": {
      "text/plain": [
       "(75818, 205)"
      ]
     },
     "execution_count": 7,
     "metadata": {},
     "output_type": "execute_result"
    }
   ],
   "source": [
    "df_test = pd.DataFrame(test_Selection)\n",
    "df_test.shape"
   ]
  },
  {
   "cell_type": "code",
   "execution_count": 8,
   "metadata": {},
   "outputs": [
    {
     "data": {
      "text/html": [
       "<div>\n",
       "<style>\n",
       "    .dataframe thead tr:only-child th {\n",
       "        text-align: right;\n",
       "    }\n",
       "\n",
       "    .dataframe thead th {\n",
       "        text-align: left;\n",
       "    }\n",
       "\n",
       "    .dataframe tbody tr th {\n",
       "        vertical-align: top;\n",
       "    }\n",
       "</style>\n",
       "<table border=\"1\" class=\"dataframe\">\n",
       "  <thead>\n",
       "    <tr style=\"text-align: right;\">\n",
       "      <th></th>\n",
       "      <th>0</th>\n",
       "      <th>1</th>\n",
       "      <th>2</th>\n",
       "      <th>3</th>\n",
       "      <th>4</th>\n",
       "      <th>5</th>\n",
       "      <th>6</th>\n",
       "      <th>7</th>\n",
       "      <th>8</th>\n",
       "      <th>9</th>\n",
       "      <th>...</th>\n",
       "      <th>195</th>\n",
       "      <th>196</th>\n",
       "      <th>197</th>\n",
       "      <th>198</th>\n",
       "      <th>199</th>\n",
       "      <th>200</th>\n",
       "      <th>201</th>\n",
       "      <th>202</th>\n",
       "      <th>203</th>\n",
       "      <th>204</th>\n",
       "    </tr>\n",
       "  </thead>\n",
       "  <tbody>\n",
       "    <tr>\n",
       "      <th>0</th>\n",
       "      <td>2.0</td>\n",
       "      <td>2.0</td>\n",
       "      <td>32.0</td>\n",
       "      <td>0.0</td>\n",
       "      <td>0.00</td>\n",
       "      <td>0.00</td>\n",
       "      <td>0.0</td>\n",
       "      <td>0.0</td>\n",
       "      <td>0.0</td>\n",
       "      <td>0.0</td>\n",
       "      <td>...</td>\n",
       "      <td>0.0</td>\n",
       "      <td>0.00</td>\n",
       "      <td>0.0</td>\n",
       "      <td>0.0</td>\n",
       "      <td>0.00</td>\n",
       "      <td>0.0</td>\n",
       "      <td>0.0</td>\n",
       "      <td>0.0</td>\n",
       "      <td>0.0</td>\n",
       "      <td>40532.10</td>\n",
       "    </tr>\n",
       "    <tr>\n",
       "      <th>1</th>\n",
       "      <td>5.0</td>\n",
       "      <td>2.0</td>\n",
       "      <td>35.0</td>\n",
       "      <td>0.0</td>\n",
       "      <td>0.00</td>\n",
       "      <td>0.00</td>\n",
       "      <td>0.0</td>\n",
       "      <td>0.0</td>\n",
       "      <td>0.0</td>\n",
       "      <td>0.0</td>\n",
       "      <td>...</td>\n",
       "      <td>0.0</td>\n",
       "      <td>0.00</td>\n",
       "      <td>0.0</td>\n",
       "      <td>0.0</td>\n",
       "      <td>0.00</td>\n",
       "      <td>0.0</td>\n",
       "      <td>0.0</td>\n",
       "      <td>0.0</td>\n",
       "      <td>0.0</td>\n",
       "      <td>45486.72</td>\n",
       "    </tr>\n",
       "    <tr>\n",
       "      <th>2</th>\n",
       "      <td>6.0</td>\n",
       "      <td>2.0</td>\n",
       "      <td>23.0</td>\n",
       "      <td>0.0</td>\n",
       "      <td>0.00</td>\n",
       "      <td>0.00</td>\n",
       "      <td>0.0</td>\n",
       "      <td>0.0</td>\n",
       "      <td>0.0</td>\n",
       "      <td>0.0</td>\n",
       "      <td>...</td>\n",
       "      <td>0.0</td>\n",
       "      <td>0.00</td>\n",
       "      <td>0.0</td>\n",
       "      <td>0.0</td>\n",
       "      <td>0.00</td>\n",
       "      <td>0.0</td>\n",
       "      <td>0.0</td>\n",
       "      <td>0.0</td>\n",
       "      <td>0.0</td>\n",
       "      <td>46993.95</td>\n",
       "    </tr>\n",
       "    <tr>\n",
       "      <th>3</th>\n",
       "      <td>7.0</td>\n",
       "      <td>2.0</td>\n",
       "      <td>24.0</td>\n",
       "      <td>0.0</td>\n",
       "      <td>0.00</td>\n",
       "      <td>0.00</td>\n",
       "      <td>0.0</td>\n",
       "      <td>0.0</td>\n",
       "      <td>0.0</td>\n",
       "      <td>0.0</td>\n",
       "      <td>...</td>\n",
       "      <td>0.0</td>\n",
       "      <td>0.00</td>\n",
       "      <td>0.0</td>\n",
       "      <td>0.0</td>\n",
       "      <td>0.00</td>\n",
       "      <td>0.0</td>\n",
       "      <td>0.0</td>\n",
       "      <td>0.0</td>\n",
       "      <td>0.0</td>\n",
       "      <td>187898.61</td>\n",
       "    </tr>\n",
       "    <tr>\n",
       "      <th>4</th>\n",
       "      <td>9.0</td>\n",
       "      <td>2.0</td>\n",
       "      <td>23.0</td>\n",
       "      <td>0.0</td>\n",
       "      <td>0.00</td>\n",
       "      <td>0.00</td>\n",
       "      <td>0.0</td>\n",
       "      <td>0.0</td>\n",
       "      <td>0.0</td>\n",
       "      <td>0.0</td>\n",
       "      <td>...</td>\n",
       "      <td>0.0</td>\n",
       "      <td>0.00</td>\n",
       "      <td>0.0</td>\n",
       "      <td>0.0</td>\n",
       "      <td>0.00</td>\n",
       "      <td>0.0</td>\n",
       "      <td>0.0</td>\n",
       "      <td>0.0</td>\n",
       "      <td>0.0</td>\n",
       "      <td>73649.73</td>\n",
       "    </tr>\n",
       "    <tr>\n",
       "      <th>5</th>\n",
       "      <td>11.0</td>\n",
       "      <td>2.0</td>\n",
       "      <td>43.0</td>\n",
       "      <td>0.0</td>\n",
       "      <td>0.00</td>\n",
       "      <td>0.00</td>\n",
       "      <td>0.0</td>\n",
       "      <td>0.0</td>\n",
       "      <td>0.0</td>\n",
       "      <td>0.0</td>\n",
       "      <td>...</td>\n",
       "      <td>0.0</td>\n",
       "      <td>0.00</td>\n",
       "      <td>0.0</td>\n",
       "      <td>0.0</td>\n",
       "      <td>0.00</td>\n",
       "      <td>0.0</td>\n",
       "      <td>0.0</td>\n",
       "      <td>0.0</td>\n",
       "      <td>0.0</td>\n",
       "      <td>53250.87</td>\n",
       "    </tr>\n",
       "    <tr>\n",
       "      <th>6</th>\n",
       "      <td>12.0</td>\n",
       "      <td>2.0</td>\n",
       "      <td>39.0</td>\n",
       "      <td>495.0</td>\n",
       "      <td>2334.42</td>\n",
       "      <td>4815.42</td>\n",
       "      <td>0.0</td>\n",
       "      <td>0.0</td>\n",
       "      <td>0.0</td>\n",
       "      <td>0.0</td>\n",
       "      <td>...</td>\n",
       "      <td>0.0</td>\n",
       "      <td>7077.51</td>\n",
       "      <td>0.0</td>\n",
       "      <td>7599.0</td>\n",
       "      <td>7338.27</td>\n",
       "      <td>0.0</td>\n",
       "      <td>0.0</td>\n",
       "      <td>0.0</td>\n",
       "      <td>0.0</td>\n",
       "      <td>58316.64</td>\n",
       "    </tr>\n",
       "    <tr>\n",
       "      <th>7</th>\n",
       "      <td>15.0</td>\n",
       "      <td>2.0</td>\n",
       "      <td>29.0</td>\n",
       "      <td>0.0</td>\n",
       "      <td>0.00</td>\n",
       "      <td>0.00</td>\n",
       "      <td>0.0</td>\n",
       "      <td>0.0</td>\n",
       "      <td>0.0</td>\n",
       "      <td>0.0</td>\n",
       "      <td>...</td>\n",
       "      <td>0.0</td>\n",
       "      <td>0.00</td>\n",
       "      <td>0.0</td>\n",
       "      <td>0.0</td>\n",
       "      <td>0.00</td>\n",
       "      <td>0.0</td>\n",
       "      <td>0.0</td>\n",
       "      <td>0.0</td>\n",
       "      <td>0.0</td>\n",
       "      <td>46898.49</td>\n",
       "    </tr>\n",
       "    <tr>\n",
       "      <th>8</th>\n",
       "      <td>16.0</td>\n",
       "      <td>2.0</td>\n",
       "      <td>53.0</td>\n",
       "      <td>0.0</td>\n",
       "      <td>0.00</td>\n",
       "      <td>0.00</td>\n",
       "      <td>0.0</td>\n",
       "      <td>0.0</td>\n",
       "      <td>0.0</td>\n",
       "      <td>0.0</td>\n",
       "      <td>...</td>\n",
       "      <td>0.0</td>\n",
       "      <td>0.00</td>\n",
       "      <td>0.0</td>\n",
       "      <td>0.0</td>\n",
       "      <td>0.00</td>\n",
       "      <td>0.0</td>\n",
       "      <td>0.0</td>\n",
       "      <td>0.0</td>\n",
       "      <td>0.0</td>\n",
       "      <td>110356.98</td>\n",
       "    </tr>\n",
       "    <tr>\n",
       "      <th>9</th>\n",
       "      <td>17.0</td>\n",
       "      <td>2.0</td>\n",
       "      <td>37.0</td>\n",
       "      <td>0.0</td>\n",
       "      <td>0.00</td>\n",
       "      <td>0.00</td>\n",
       "      <td>0.0</td>\n",
       "      <td>0.0</td>\n",
       "      <td>0.0</td>\n",
       "      <td>0.0</td>\n",
       "      <td>...</td>\n",
       "      <td>0.0</td>\n",
       "      <td>0.00</td>\n",
       "      <td>0.0</td>\n",
       "      <td>0.0</td>\n",
       "      <td>0.00</td>\n",
       "      <td>0.0</td>\n",
       "      <td>0.0</td>\n",
       "      <td>0.0</td>\n",
       "      <td>0.0</td>\n",
       "      <td>41366.49</td>\n",
       "    </tr>\n",
       "  </tbody>\n",
       "</table>\n",
       "<p>10 rows × 205 columns</p>\n",
       "</div>"
      ],
      "text/plain": [
       "    0    1     2      3        4        5    6    7    8    9      ...      \\\n",
       "0   2.0  2.0  32.0    0.0     0.00     0.00  0.0  0.0  0.0  0.0    ...       \n",
       "1   5.0  2.0  35.0    0.0     0.00     0.00  0.0  0.0  0.0  0.0    ...       \n",
       "2   6.0  2.0  23.0    0.0     0.00     0.00  0.0  0.0  0.0  0.0    ...       \n",
       "3   7.0  2.0  24.0    0.0     0.00     0.00  0.0  0.0  0.0  0.0    ...       \n",
       "4   9.0  2.0  23.0    0.0     0.00     0.00  0.0  0.0  0.0  0.0    ...       \n",
       "5  11.0  2.0  43.0    0.0     0.00     0.00  0.0  0.0  0.0  0.0    ...       \n",
       "6  12.0  2.0  39.0  495.0  2334.42  4815.42  0.0  0.0  0.0  0.0    ...       \n",
       "7  15.0  2.0  29.0    0.0     0.00     0.00  0.0  0.0  0.0  0.0    ...       \n",
       "8  16.0  2.0  53.0    0.0     0.00     0.00  0.0  0.0  0.0  0.0    ...       \n",
       "9  17.0  2.0  37.0    0.0     0.00     0.00  0.0  0.0  0.0  0.0    ...       \n",
       "\n",
       "   195      196  197     198      199  200  201  202  203        204  \n",
       "0  0.0     0.00  0.0     0.0     0.00  0.0  0.0  0.0  0.0   40532.10  \n",
       "1  0.0     0.00  0.0     0.0     0.00  0.0  0.0  0.0  0.0   45486.72  \n",
       "2  0.0     0.00  0.0     0.0     0.00  0.0  0.0  0.0  0.0   46993.95  \n",
       "3  0.0     0.00  0.0     0.0     0.00  0.0  0.0  0.0  0.0  187898.61  \n",
       "4  0.0     0.00  0.0     0.0     0.00  0.0  0.0  0.0  0.0   73649.73  \n",
       "5  0.0     0.00  0.0     0.0     0.00  0.0  0.0  0.0  0.0   53250.87  \n",
       "6  0.0  7077.51  0.0  7599.0  7338.27  0.0  0.0  0.0  0.0   58316.64  \n",
       "7  0.0     0.00  0.0     0.0     0.00  0.0  0.0  0.0  0.0   46898.49  \n",
       "8  0.0     0.00  0.0     0.0     0.00  0.0  0.0  0.0  0.0  110356.98  \n",
       "9  0.0     0.00  0.0     0.0     0.00  0.0  0.0  0.0  0.0   41366.49  \n",
       "\n",
       "[10 rows x 205 columns]"
      ]
     },
     "execution_count": 8,
     "metadata": {},
     "output_type": "execute_result"
    }
   ],
   "source": [
    "df_test.head(10)"
   ]
  },
  {
   "cell_type": "code",
   "execution_count": 9,
   "metadata": {},
   "outputs": [
    {
     "data": {
      "text/html": [
       "<div>\n",
       "<style>\n",
       "    .dataframe thead tr:only-child th {\n",
       "        text-align: right;\n",
       "    }\n",
       "\n",
       "    .dataframe thead th {\n",
       "        text-align: left;\n",
       "    }\n",
       "\n",
       "    .dataframe tbody tr th {\n",
       "        vertical-align: top;\n",
       "    }\n",
       "</style>\n",
       "<table border=\"1\" class=\"dataframe\">\n",
       "  <thead>\n",
       "    <tr style=\"text-align: right;\">\n",
       "      <th></th>\n",
       "      <th>0</th>\n",
       "      <th>1</th>\n",
       "      <th>2</th>\n",
       "      <th>3</th>\n",
       "      <th>4</th>\n",
       "      <th>5</th>\n",
       "      <th>6</th>\n",
       "      <th>7</th>\n",
       "      <th>8</th>\n",
       "      <th>9</th>\n",
       "      <th>...</th>\n",
       "      <th>202</th>\n",
       "      <th>203</th>\n",
       "      <th>204</th>\n",
       "      <th>205</th>\n",
       "      <th>206</th>\n",
       "      <th>207</th>\n",
       "      <th>208</th>\n",
       "      <th>209</th>\n",
       "      <th>210</th>\n",
       "      <th>211</th>\n",
       "    </tr>\n",
       "  </thead>\n",
       "  <tbody>\n",
       "    <tr>\n",
       "      <th>0</th>\n",
       "      <td>1.0</td>\n",
       "      <td>2.0</td>\n",
       "      <td>23.0</td>\n",
       "      <td>0.0</td>\n",
       "      <td>0.0</td>\n",
       "      <td>0.0</td>\n",
       "      <td>0.0</td>\n",
       "      <td>0.0</td>\n",
       "      <td>0.0</td>\n",
       "      <td>0.0</td>\n",
       "      <td>...</td>\n",
       "      <td>0.0</td>\n",
       "      <td>0.0</td>\n",
       "      <td>0.0</td>\n",
       "      <td>0.0</td>\n",
       "      <td>0.0</td>\n",
       "      <td>0.0</td>\n",
       "      <td>0.0</td>\n",
       "      <td>0.0</td>\n",
       "      <td>0.0</td>\n",
       "      <td>39205.170</td>\n",
       "    </tr>\n",
       "    <tr>\n",
       "      <th>1</th>\n",
       "      <td>3.0</td>\n",
       "      <td>2.0</td>\n",
       "      <td>34.0</td>\n",
       "      <td>0.0</td>\n",
       "      <td>0.0</td>\n",
       "      <td>0.0</td>\n",
       "      <td>0.0</td>\n",
       "      <td>0.0</td>\n",
       "      <td>0.0</td>\n",
       "      <td>0.0</td>\n",
       "      <td>...</td>\n",
       "      <td>0.0</td>\n",
       "      <td>0.0</td>\n",
       "      <td>0.0</td>\n",
       "      <td>0.0</td>\n",
       "      <td>0.0</td>\n",
       "      <td>0.0</td>\n",
       "      <td>0.0</td>\n",
       "      <td>0.0</td>\n",
       "      <td>0.0</td>\n",
       "      <td>49278.030</td>\n",
       "    </tr>\n",
       "    <tr>\n",
       "      <th>2</th>\n",
       "      <td>4.0</td>\n",
       "      <td>2.0</td>\n",
       "      <td>23.0</td>\n",
       "      <td>0.0</td>\n",
       "      <td>0.0</td>\n",
       "      <td>0.0</td>\n",
       "      <td>0.0</td>\n",
       "      <td>0.0</td>\n",
       "      <td>0.0</td>\n",
       "      <td>0.0</td>\n",
       "      <td>...</td>\n",
       "      <td>0.0</td>\n",
       "      <td>0.0</td>\n",
       "      <td>0.0</td>\n",
       "      <td>0.0</td>\n",
       "      <td>0.0</td>\n",
       "      <td>0.0</td>\n",
       "      <td>0.0</td>\n",
       "      <td>0.0</td>\n",
       "      <td>0.0</td>\n",
       "      <td>67333.770</td>\n",
       "    </tr>\n",
       "    <tr>\n",
       "      <th>3</th>\n",
       "      <td>8.0</td>\n",
       "      <td>2.0</td>\n",
       "      <td>37.0</td>\n",
       "      <td>0.0</td>\n",
       "      <td>195.0</td>\n",
       "      <td>195.0</td>\n",
       "      <td>0.0</td>\n",
       "      <td>0.0</td>\n",
       "      <td>0.0</td>\n",
       "      <td>0.0</td>\n",
       "      <td>...</td>\n",
       "      <td>0.0</td>\n",
       "      <td>0.0</td>\n",
       "      <td>0.0</td>\n",
       "      <td>0.0</td>\n",
       "      <td>0.0</td>\n",
       "      <td>0.0</td>\n",
       "      <td>0.0</td>\n",
       "      <td>0.0</td>\n",
       "      <td>0.0</td>\n",
       "      <td>64007.970</td>\n",
       "    </tr>\n",
       "    <tr>\n",
       "      <th>4</th>\n",
       "      <td>10.0</td>\n",
       "      <td>2.0</td>\n",
       "      <td>39.0</td>\n",
       "      <td>0.0</td>\n",
       "      <td>0.0</td>\n",
       "      <td>0.0</td>\n",
       "      <td>0.0</td>\n",
       "      <td>0.0</td>\n",
       "      <td>0.0</td>\n",
       "      <td>0.0</td>\n",
       "      <td>...</td>\n",
       "      <td>0.0</td>\n",
       "      <td>0.0</td>\n",
       "      <td>0.0</td>\n",
       "      <td>0.0</td>\n",
       "      <td>0.0</td>\n",
       "      <td>0.0</td>\n",
       "      <td>0.0</td>\n",
       "      <td>0.0</td>\n",
       "      <td>0.0</td>\n",
       "      <td>117310.979</td>\n",
       "    </tr>\n",
       "    <tr>\n",
       "      <th>5</th>\n",
       "      <td>13.0</td>\n",
       "      <td>2.0</td>\n",
       "      <td>23.0</td>\n",
       "      <td>0.0</td>\n",
       "      <td>0.0</td>\n",
       "      <td>0.0</td>\n",
       "      <td>0.0</td>\n",
       "      <td>0.0</td>\n",
       "      <td>0.0</td>\n",
       "      <td>0.0</td>\n",
       "      <td>...</td>\n",
       "      <td>0.0</td>\n",
       "      <td>0.0</td>\n",
       "      <td>0.0</td>\n",
       "      <td>0.0</td>\n",
       "      <td>0.0</td>\n",
       "      <td>0.0</td>\n",
       "      <td>0.0</td>\n",
       "      <td>0.0</td>\n",
       "      <td>0.0</td>\n",
       "      <td>87975.750</td>\n",
       "    </tr>\n",
       "    <tr>\n",
       "      <th>6</th>\n",
       "      <td>14.0</td>\n",
       "      <td>2.0</td>\n",
       "      <td>27.0</td>\n",
       "      <td>0.0</td>\n",
       "      <td>0.0</td>\n",
       "      <td>0.0</td>\n",
       "      <td>0.0</td>\n",
       "      <td>0.0</td>\n",
       "      <td>0.0</td>\n",
       "      <td>0.0</td>\n",
       "      <td>...</td>\n",
       "      <td>0.0</td>\n",
       "      <td>0.0</td>\n",
       "      <td>0.0</td>\n",
       "      <td>0.0</td>\n",
       "      <td>0.0</td>\n",
       "      <td>0.0</td>\n",
       "      <td>0.0</td>\n",
       "      <td>0.0</td>\n",
       "      <td>0.0</td>\n",
       "      <td>94956.660</td>\n",
       "    </tr>\n",
       "    <tr>\n",
       "      <th>7</th>\n",
       "      <td>18.0</td>\n",
       "      <td>2.0</td>\n",
       "      <td>26.0</td>\n",
       "      <td>0.0</td>\n",
       "      <td>0.0</td>\n",
       "      <td>0.0</td>\n",
       "      <td>0.0</td>\n",
       "      <td>0.0</td>\n",
       "      <td>0.0</td>\n",
       "      <td>0.0</td>\n",
       "      <td>...</td>\n",
       "      <td>0.0</td>\n",
       "      <td>0.0</td>\n",
       "      <td>0.0</td>\n",
       "      <td>0.0</td>\n",
       "      <td>0.0</td>\n",
       "      <td>0.0</td>\n",
       "      <td>0.0</td>\n",
       "      <td>0.0</td>\n",
       "      <td>0.0</td>\n",
       "      <td>251638.950</td>\n",
       "    </tr>\n",
       "    <tr>\n",
       "      <th>8</th>\n",
       "      <td>20.0</td>\n",
       "      <td>2.0</td>\n",
       "      <td>45.0</td>\n",
       "      <td>0.0</td>\n",
       "      <td>0.0</td>\n",
       "      <td>0.0</td>\n",
       "      <td>0.0</td>\n",
       "      <td>0.0</td>\n",
       "      <td>0.0</td>\n",
       "      <td>0.0</td>\n",
       "      <td>...</td>\n",
       "      <td>0.0</td>\n",
       "      <td>0.0</td>\n",
       "      <td>0.0</td>\n",
       "      <td>0.0</td>\n",
       "      <td>0.0</td>\n",
       "      <td>0.0</td>\n",
       "      <td>0.0</td>\n",
       "      <td>0.0</td>\n",
       "      <td>0.0</td>\n",
       "      <td>101962.020</td>\n",
       "    </tr>\n",
       "    <tr>\n",
       "      <th>9</th>\n",
       "      <td>23.0</td>\n",
       "      <td>2.0</td>\n",
       "      <td>25.0</td>\n",
       "      <td>0.0</td>\n",
       "      <td>0.0</td>\n",
       "      <td>0.0</td>\n",
       "      <td>0.0</td>\n",
       "      <td>0.0</td>\n",
       "      <td>0.0</td>\n",
       "      <td>0.0</td>\n",
       "      <td>...</td>\n",
       "      <td>0.0</td>\n",
       "      <td>0.0</td>\n",
       "      <td>0.0</td>\n",
       "      <td>0.0</td>\n",
       "      <td>0.0</td>\n",
       "      <td>0.0</td>\n",
       "      <td>0.0</td>\n",
       "      <td>0.0</td>\n",
       "      <td>0.0</td>\n",
       "      <td>356463.060</td>\n",
       "    </tr>\n",
       "  </tbody>\n",
       "</table>\n",
       "<p>10 rows × 212 columns</p>\n",
       "</div>"
      ],
      "text/plain": [
       "    0    1     2    3      4      5    6    7    8    9       ...      202  \\\n",
       "0   1.0  2.0  23.0  0.0    0.0    0.0  0.0  0.0  0.0  0.0     ...      0.0   \n",
       "1   3.0  2.0  34.0  0.0    0.0    0.0  0.0  0.0  0.0  0.0     ...      0.0   \n",
       "2   4.0  2.0  23.0  0.0    0.0    0.0  0.0  0.0  0.0  0.0     ...      0.0   \n",
       "3   8.0  2.0  37.0  0.0  195.0  195.0  0.0  0.0  0.0  0.0     ...      0.0   \n",
       "4  10.0  2.0  39.0  0.0    0.0    0.0  0.0  0.0  0.0  0.0     ...      0.0   \n",
       "5  13.0  2.0  23.0  0.0    0.0    0.0  0.0  0.0  0.0  0.0     ...      0.0   \n",
       "6  14.0  2.0  27.0  0.0    0.0    0.0  0.0  0.0  0.0  0.0     ...      0.0   \n",
       "7  18.0  2.0  26.0  0.0    0.0    0.0  0.0  0.0  0.0  0.0     ...      0.0   \n",
       "8  20.0  2.0  45.0  0.0    0.0    0.0  0.0  0.0  0.0  0.0     ...      0.0   \n",
       "9  23.0  2.0  25.0  0.0    0.0    0.0  0.0  0.0  0.0  0.0     ...      0.0   \n",
       "\n",
       "   203  204  205  206  207  208  209  210         211  \n",
       "0  0.0  0.0  0.0  0.0  0.0  0.0  0.0  0.0   39205.170  \n",
       "1  0.0  0.0  0.0  0.0  0.0  0.0  0.0  0.0   49278.030  \n",
       "2  0.0  0.0  0.0  0.0  0.0  0.0  0.0  0.0   67333.770  \n",
       "3  0.0  0.0  0.0  0.0  0.0  0.0  0.0  0.0   64007.970  \n",
       "4  0.0  0.0  0.0  0.0  0.0  0.0  0.0  0.0  117310.979  \n",
       "5  0.0  0.0  0.0  0.0  0.0  0.0  0.0  0.0   87975.750  \n",
       "6  0.0  0.0  0.0  0.0  0.0  0.0  0.0  0.0   94956.660  \n",
       "7  0.0  0.0  0.0  0.0  0.0  0.0  0.0  0.0  251638.950  \n",
       "8  0.0  0.0  0.0  0.0  0.0  0.0  0.0  0.0  101962.020  \n",
       "9  0.0  0.0  0.0  0.0  0.0  0.0  0.0  0.0  356463.060  \n",
       "\n",
       "[10 rows x 212 columns]"
      ]
     },
     "execution_count": 9,
     "metadata": {},
     "output_type": "execute_result"
    }
   ],
   "source": [
    "df_train.head(10)"
   ]
  },
  {
   "cell_type": "markdown",
   "metadata": {},
   "source": [
    "# Decision Tree"
   ]
  },
  {
   "cell_type": "code",
   "execution_count": 28,
   "metadata": {},
   "outputs": [
    {
     "name": "stdout",
     "output_type": "stream",
     "text": [
      "Accuracy with Decision Tree  0.926642111725\n"
     ]
    }
   ],
   "source": [
    "y = read12['TARGET']\n",
    "X_train, X_test, y_train, y_test = train_test_split(df_train,y, test_size=0.3, random_state=3)\n",
    "\n",
    "decisionTree = DecisionTreeClassifier()\n",
    "decisionTree.fit(X_train, y_train)\n",
    "\n",
    "y_predict_dt = decisionTree.predict(X_test)\n",
    "accuracyDt = accuracy_score(y_test, y_predict_dt)\n",
    "\n",
    "print(\"Accuracy with Decision Tree \", accuracyDt)"
   ]
  },
  {
   "cell_type": "code",
   "execution_count": 30,
   "metadata": {},
   "outputs": [
    {
     "name": "stdout",
     "output_type": "stream",
     "text": [
      "Decision Tree with Cross Validation  0.820362542708\n"
     ]
    }
   ],
   "source": [
    "from sklearn.cross_validation import cross_val_score\n",
    "\n",
    "y = read12['TARGET']\n",
    "decisionTree = DecisionTreeClassifier()\n",
    "\n",
    "accuracy_list = cross_val_score(decisionTree, df_train, y, cv=10, scoring='accuracy')\n",
    "accuracy_cv = accuracy_list.mean()\n",
    "\n",
    "print(\"Decision Tree with Cross Validation \", accuracy_cv)"
   ]
  },
  {
   "cell_type": "markdown",
   "metadata": {},
   "source": [
    "#### Predicting values for testing set"
   ]
  },
  {
   "cell_type": "code",
   "execution_count": 11,
   "metadata": {},
   "outputs": [
    {
     "name": "stdout",
     "output_type": "stream",
     "text": [
      "[0 0 0 ..., 1 0 0]\n"
     ]
    }
   ],
   "source": [
    "decisionTree = DecisionTreeClassifier()\n",
    "decisionTree.fit(train, y)\n",
    "y_predict_dt = decisionTree.predict(test)\n",
    "print(y_predict_dt)\n",
    "re = pd.DataFrame(y_predict_dt)\n",
    "re.to_csv('DecisionTreeResult', encoding='utf-8', index=False)"
   ]
  },
  {
   "cell_type": "markdown",
   "metadata": {},
   "source": [
    "# Logistic Regression"
   ]
  },
  {
   "cell_type": "code",
   "execution_count": 31,
   "metadata": {},
   "outputs": [
    {
     "name": "stdout",
     "output_type": "stream",
     "text": [
      "Accuracy with Logistic Regression :  0.960624397088\n"
     ]
    }
   ],
   "source": [
    "y = read12['TARGET']\n",
    "X_train, X_test, y_train, y_test = train_test_split(df_train,y, test_size=0.3, random_state=3)\n",
    "logreg = LogisticRegression()\n",
    "\n",
    "# training\n",
    "logreg.fit(X_train, y_train)\n",
    "\n",
    "# predict label\n",
    "y_predict_lr = logreg.predict(X_test)\n",
    "\n",
    "# calculate accuracy\n",
    "log_accuracy = accuracy_score(y_test, y_predict_lr)\n",
    "\n",
    "print('Accuracy with Logistic Regression : ', log_accuracy)"
   ]
  },
  {
   "cell_type": "code",
   "execution_count": 32,
   "metadata": {},
   "outputs": [
    {
     "name": "stdout",
     "output_type": "stream",
     "text": [
      "Logistic Regression with Cross Validation  0.960418314158\n"
     ]
    }
   ],
   "source": [
    "from sklearn.cross_validation import cross_val_score\n",
    "\n",
    "yLog = read12['TARGET']\n",
    "logreg = LogisticRegression()\n",
    "\n",
    "accuracy_list = cross_val_score(logreg, df_train, y, cv=10, scoring='accuracy')\n",
    "accuracy_cv = accuracy_list.mean()\n",
    "\n",
    "print(\"Logistic Regression with Cross Validation \", accuracy_cv)"
   ]
  },
  {
   "cell_type": "code",
   "execution_count": 95,
   "metadata": {
    "collapsed": true
   },
   "outputs": [],
   "source": [
    "yLog = read12['TARGET']\n",
    "logreg = LogisticRegression()\n",
    "\n",
    "# training\n",
    "logreg.fit(df_train, yLog)\n",
    "\n",
    "# predict label\n",
    "y_predict_lr = logreg.predict(test)\n",
    "\n",
    "\n",
    "GB = pd.DataFrame(y_predict_lr)\n",
    "GB.to_csv('LogisticRegressionResult', encoding='utf-8', index=False)"
   ]
  },
  {
   "cell_type": "markdown",
   "metadata": {},
   "source": [
    "# Gradient Boosting"
   ]
  },
  {
   "cell_type": "code",
   "execution_count": 33,
   "metadata": {},
   "outputs": [
    {
     "name": "stdout",
     "output_type": "stream",
     "text": [
      "Accuracy with Gradient Boosting :  0.954380426204\n"
     ]
    }
   ],
   "source": [
    "from sklearn.ensemble import GradientBoostingClassifier\n",
    "\n",
    "y=read12['TARGET']\n",
    "X_train, X_test, y_train, y_test = train_test_split(df_train, y, random_state=0)\n",
    "clf = GradientBoostingClassifier(learning_rate= 1, max_depth=5,random_state=0)\n",
    "clf.fit(X_train, y_train)\n",
    "\n",
    "\n",
    "\n",
    "y_predict_dt = clf.predict(X_test)\n",
    "accuracyDt = accuracy_score(y_test, y_predict_dt)\n",
    "\n",
    "print(\"Accuracy with Gradient Boosting : \", accuracyDt)"
   ]
  },
  {
   "cell_type": "code",
   "execution_count": 34,
   "metadata": {},
   "outputs": [
    {
     "name": "stdout",
     "output_type": "stream",
     "text": [
      "Gradient Boosting with cross validation:  0.960431468591\n"
     ]
    }
   ],
   "source": [
    "from sklearn.ensemble import GradientBoostingClassifier\n",
    "from sklearn.model_selection import train_test_split\n",
    "\n",
    "clf = GradientBoostingClassifier(learning_rate= 0.01, max_depth=2,random_state=0)\n",
    "\n",
    "\n",
    "accuracy_list = cross_val_score(clf, df_train, y, cv=10, scoring='accuracy')\n",
    "\n",
    "accuracy_gb = accuracy_list.mean()\n",
    "\n",
    "print(\"Gradient Boosting with cross validation: \", accuracy_gb)"
   ]
  },
  {
   "cell_type": "code",
   "execution_count": 8,
   "metadata": {
    "collapsed": true
   },
   "outputs": [],
   "source": [
    "from sklearn.ensemble import GradientBoostingClassifier\n",
    "\n",
    "y=read12['TARGET']\n",
    "clf = GradientBoostingClassifier(learning_rate= 1, max_depth=5,random_state=0)\n",
    "clf.fit(df_train, y)\n",
    "\n",
    "\n",
    "\n",
    "y_predict_gb = clf.predict(test)\n",
    "\n",
    "\n",
    "GB = pd.DataFrame(y_predict_gb)\n",
    "GB.to_csv('GradientBoostingResult', encoding='utf-8', index=False)"
   ]
  },
  {
   "cell_type": "markdown",
   "metadata": {},
   "source": [
    "# Neural Network "
   ]
  },
  {
   "cell_type": "code",
   "execution_count": 35,
   "metadata": {},
   "outputs": [
    {
     "name": "stdout",
     "output_type": "stream",
     "text": [
      "Accuracy with Neural Networks :  0.960115759011\n"
     ]
    }
   ],
   "source": [
    "from sklearn.neural_network import MLPClassifier\n",
    "y=read12['TARGET']\n",
    "X_train, X_test, y_train, y_test = train_test_split(df_train, y, random_state=0)\n",
    "\n",
    "neuralClassifier = MLPClassifier(solver='lbfgs', alpha=5,hidden_layer_sizes=(10, 10), random_state=0)\n",
    "neuralClassifier.fit(df_train, y)\n",
    "y_predict =neuralClassifier.predict(X_test)\n",
    "a = accuracy_score(y_test, y_predict)\n",
    "\n",
    "print(\"Accuracy with Neural Networks : \", a)"
   ]
  },
  {
   "cell_type": "code",
   "execution_count": 36,
   "metadata": {},
   "outputs": [
    {
     "name": "stdout",
     "output_type": "stream",
     "text": [
      "Neural Network accuracy with Cross Validation:  0.960365694695\n"
     ]
    }
   ],
   "source": [
    "from sklearn.ensemble import GradientBoostingClassifier\n",
    "from sklearn.model_selection import train_test_split\n",
    "\n",
    "neuralClassifier = MLPClassifier(solver='lbfgs', alpha=5,hidden_layer_sizes=(5, 5), random_state=0)\n",
    "\n",
    "accuracy_list = cross_val_score(neuralClassifier, train, y, cv=10, scoring='accuracy')\n",
    "\n",
    "accuracy_gb = accuracy_list.mean()\n",
    "\n",
    "print(\"Neural Network accuracy with Cross Validation: \", accuracy_gb)"
   ]
  },
  {
   "cell_type": "markdown",
   "metadata": {},
   "source": [
    "# K - Nearest Neighbors "
   ]
  },
  {
   "cell_type": "code",
   "execution_count": 47,
   "metadata": {},
   "outputs": [
    {
     "name": "stdout",
     "output_type": "stream",
     "text": [
      "Accuracy with K-Nearest Neighbors :  0.960115759011\n"
     ]
    }
   ],
   "source": [
    "y=read12['TARGET']\n",
    "X_train, X_test, y_train, y_test = train_test_split(df_train, y, random_state=0)\n",
    "k=1000\n",
    "my_knn = KNeighborsClassifier(n_neighbors=k)\n",
    "my_knn.fit(X_train, y_train)\n",
    "y_predict = my_knn.predict(X_test)\n",
    "accuracyKnn = accuracy_score(y_test, y_predict)\n",
    "print(\"Accuracy with K-Nearest Neighbors : \" , accuracyKnn)"
   ]
  },
  {
   "cell_type": "code",
   "execution_count": 49,
   "metadata": {},
   "outputs": [
    {
     "name": "stdout",
     "output_type": "stream",
     "text": [
      "K-Nearest Neighbors with Cross Validation 0.960431468591\n"
     ]
    }
   ],
   "source": [
    "k=1000\n",
    "my_knn = KNeighborsClassifier(n_neighbors=k)\n",
    "\n",
    "accuracy_list = cross_val_score(my_knn, df_train, y, cv=10, scoring='accuracy')\n",
    "\n",
    "accuracy_gb = accuracy_list.mean()\n",
    "\n",
    "print(\"K-Nearest Neighbors with Cross Validation\", accuracy_gb)"
   ]
  },
  {
   "cell_type": "code",
   "execution_count": 5,
   "metadata": {
    "collapsed": true
   },
   "outputs": [],
   "source": [
    "y=read12['TARGET']\n",
    "\n",
    "k=1000\n",
    "my_knn = KNeighborsClassifier(n_neighbors=k)\n",
    "my_knn.fit(df_train, y)\n",
    "y_predict = my_knn.predict(test)\n",
    "\n",
    "KNN = pd.DataFrame(y_predict)\n",
    "KNN.to_csv('KNNResult', encoding='utf-8', index=False)"
   ]
  },
  {
   "cell_type": "markdown",
   "metadata": {},
   "source": [
    "# Random Forest"
   ]
  },
  {
   "cell_type": "code",
   "execution_count": 37,
   "metadata": {},
   "outputs": [
    {
     "name": "stdout",
     "output_type": "stream",
     "text": [
      "Accuracy with Random Forest:  0.963036043147\n"
     ]
    }
   ],
   "source": [
    "y = read12['TARGET']\n",
    "X_train, X_test, y_train, y_test = train_test_split(df_train,y, test_size=0.3, random_state=5)\n",
    "\n",
    "rf_model =  RandomForestClassifier(max_depth=10,n_estimators=10)\n",
    "rf_model.fit(X_train, y_train)\n",
    "\n",
    "\n",
    "# Scoring based on the train RF Model\n",
    "predictions = rf_model.predict(X_test)\n",
    "predictions\n",
    "accuracyDt = rf_model.score(X_test,y_test)#, predictions)\n",
    "\n",
    "print(\"Accuracy with Random Forest: \", accuracyDt)"
   ]
  },
  {
   "cell_type": "code",
   "execution_count": 38,
   "metadata": {},
   "outputs": [
    {
     "name": "stdout",
     "output_type": "stream",
     "text": [
      "Random Forest with Cross Validation  0.942487395767\n"
     ]
    }
   ],
   "source": [
    "rf_model =  RandomForestClassifier(max_depth=10,n_estimators=10)\n",
    "\n",
    "accuracy_list = cross_val_score(rf_model, df_train, y, cv=10, scoring='accuracy')\n",
    "\n",
    "accuracy_gb = accuracy_list.mean()\n",
    "\n",
    "print(\"Random Forest with Cross Validation \", accuracy_gb)"
   ]
  },
  {
   "cell_type": "code",
   "execution_count": 104,
   "metadata": {
    "collapsed": true
   },
   "outputs": [],
   "source": [
    "y=read12['TARGET']\n",
    "\n",
    "rf_model =  RandomForestClassifier(max_depth=10,n_estimators=10)\n",
    "rf_model.fit(df_train, y)\n",
    "\n",
    "\n",
    "\n",
    "y_predict_gb = rf_model.predict(test)\n",
    "\n",
    "\n",
    "GB = pd.DataFrame(y_predict_gb)\n",
    "GB.to_csv('RandomForestResult', encoding='utf-8', index=False)"
   ]
  },
  {
   "cell_type": "markdown",
   "metadata": {},
   "source": [
    "# Ada - Boost "
   ]
  },
  {
   "cell_type": "code",
   "execution_count": 39,
   "metadata": {},
   "outputs": [
    {
     "name": "stdout",
     "output_type": "stream",
     "text": [
      "Accuracy with Ada Boost :  0.924440936596\n"
     ]
    }
   ],
   "source": [
    "from sklearn.ensemble import AdaBoostClassifier\n",
    "\n",
    "y=read12['TARGET']\n",
    "X_train, X_test, y_train, y_test = train_test_split(df_train, y, random_state=0)\n",
    "\n",
    "dt = DecisionTreeClassifier()\n",
    "clf = AdaBoostClassifier(n_estimators=100, base_estimator=dt,learning_rate=1)\n",
    "clf.fit(X_train, y_train)\n",
    "prediction = clf.predict(X_test)\n",
    "acc_score = accuracy_score(y_test, prediction)\n",
    "print(\"Accuracy with Ada Boost : \", acc_score)"
   ]
  },
  {
   "cell_type": "code",
   "execution_count": 46,
   "metadata": {},
   "outputs": [
    {
     "name": "stdout",
     "output_type": "stream",
     "text": [
      "Ada-boost with Cross Validation :  0.818941981581\n"
     ]
    }
   ],
   "source": [
    "# importing the method:\n",
    "from sklearn.cross_validation import cross_val_score\n",
    "\n",
    "y = read12['TARGET']\n",
    "decisionTree = DecisionTreeClassifier()\n",
    "clf_ab = AdaBoostClassifier(n_estimators=100, base_estimator=decisionTree,learning_rate=1)\n",
    "\n",
    "accuracy_list = cross_val_score(clf_ab, df_train, y, cv=10, scoring='accuracy')\n",
    "accuracy_cv = accuracy_list.mean()\n",
    "\n",
    "print(\"Ada-boost with Cross Validation : \", accuracy_cv)"
   ]
  },
  {
   "cell_type": "code",
   "execution_count": 110,
   "metadata": {
    "collapsed": true
   },
   "outputs": [],
   "source": [
    "from sklearn.ensemble import AdaBoostClassifier\n",
    "\n",
    "y=read12['TARGET']\n",
    "\n",
    "dt = DecisionTreeClassifier()\n",
    "clf = AdaBoostClassifier(n_estimators=100, base_estimator=dt,learning_rate=1)\n",
    "clf.fit(df_train, y)\n",
    "\n",
    "prediction = clf.predict(test)\n",
    "\n",
    "GB = pd.DataFrame(prediction)\n",
    "GB.to_csv('AdaBoostResult', encoding='utf-8', index=False)"
   ]
  },
  {
   "cell_type": "markdown",
   "metadata": {},
   "source": [
    "### Calculate the probability of Logistic classification accuracy "
   ]
  },
  {
   "cell_type": "code",
   "execution_count": 19,
   "metadata": {},
   "outputs": [
    {
     "name": "stdout",
     "output_type": "stream",
     "text": [
      "[ 0.48510086  0.48559716  0.47764886 ...,  0.48244598  0.48619128\n",
      "  0.48922602]\n",
      "AUC:  0.58715801003\n"
     ]
    }
   ],
   "source": [
    "y = read12['TARGET']\n",
    "X_train, X_test, y_train, y_test = train_test_split(df_train,y, test_size=0.3, random_state=3)\n",
    "logreg = LogisticRegression()\n",
    "logreg.fit(X_train, y_train)\n",
    "y_predict_prob_lr = logreg.predict_proba(X_test)\n",
    "\n",
    "print(y_predict_prob_lr[:  ,1])\n",
    "\n",
    "\n",
    "# calculate AUC\n",
    "fpr, tpr, thresholds = metrics.roc_curve(y_test, y_predict_prob_lr[:,1], pos_label=1)\n",
    "AUC = metrics.auc(fpr, tpr)\n",
    "print('AUC: ',AUC)"
   ]
  },
  {
   "cell_type": "markdown",
   "metadata": {},
   "source": [
    "### ROC Curve  "
   ]
  },
  {
   "cell_type": "code",
   "execution_count": 20,
   "metadata": {},
   "outputs": [
    {
     "data": {
      "image/png": "[encoded data removed]",
      "text/plain": [
       "<matplotlib.figure.Figure at 0x226c2ace978>"
      ]
     },
     "metadata": {},
     "output_type": "display_data"
    }
   ],
   "source": [
    "%matplotlib inline\n",
    "\n",
    "plt.figure()\n",
    "\n",
    "# Roc Curve:\n",
    "plt.plot(fpr, tpr, color='red', lw=2, \n",
    "         label='ROC Curve (area = %0.2f)' % AUC)\n",
    "\n",
    "# Random Guess line:\n",
    "plt.plot([0, 1], [0, 1], color='blue', lw=1, linestyle='--')\n",
    "\n",
    "# Define X-Axis and Y-Axis:\n",
    "plt.xlim([-0.005, 1.005])\n",
    "plt.ylim([0.0, 1.01])\n",
    "\n",
    "# Labels, Title, Legend:\n",
    "plt.xlabel('False Positive Rate')\n",
    "plt.ylabel('True Positive Rate')\n",
    "\n",
    "plt.legend(loc=\"lower right\")\n",
    "\n",
    "plt.show()"
   ]
  },
  {
   "cell_type": "markdown",
   "metadata": {
    "collapsed": true
   },
   "source": [
    "## The accuracy for each algorithm that we recorded is reported in table below. Sorted according to the accuracy reported."
   ]
  },
  {
   "attachments": {
    "image.png": {
     "image/png": "[encoded data removed]"
    }
   },
   "cell_type": "markdown",
   "metadata": {
    "collapsed": true
   },
   "source": [
    "\n",
    "       \n",
    "![image.png](attachment:image.png)\n",
    "\n",
    "\n",
    "\n"
   ]
  }
 ],
 "metadata": {
  "kernelspec": {
   "display_name": "Python 3",
   "language": "python",
   "name": "python3"
  },
  "language_info": {
   "codemirror_mode": {
    "name": "ipython",
    "version": 3
   },
   "file_extension": ".py",
   "mimetype": "text/x-python",
   "name": "python",
   "nbconvert_exporter": "python",
   "pygments_lexer": "ipython3",
   "version": "3.6.1"
  }
 },
 "nbformat": 4,
 "nbformat_minor": 2
}
